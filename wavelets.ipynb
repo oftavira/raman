{
 "cells": [
  {
   "cell_type": "code",
   "execution_count": 1,
   "metadata": {},
   "outputs": [],
   "source": [
    "from core import *\n",
    "import matplotlib.pyplot as plt\n",
    "\n",
    "files, ramanspecs = filesfrom(path='./muestras/coffe_mate')"
   ]
  },
  {
   "cell_type": "code",
   "execution_count": 2,
   "metadata": {},
   "outputs": [
    {
     "data": {
      "text/plain": [
       "{'20.06.2023 12:04:10': <core.RamanSpectrum at 0x7f90ac38bc10>,\n",
       " '20.06.2023 11:55:34': <core.RamanSpectrum at 0x7f907bedffd0>,\n",
       " '20.06.2023 11:58:14': <core.RamanSpectrum at 0x7f90ac38bc40>,\n",
       " '20.06.2023 11:53:08': <core.RamanSpectrum at 0x7f90ac38b580>,\n",
       " '20.06.2023 12:03:20': <core.RamanSpectrum at 0x7f90ac38b430>,\n",
       " '20.06.2023 12:07:11': <core.RamanSpectrum at 0x7f90ac38bf10>,\n",
       " '20.06.2023 12:05:00': <core.RamanSpectrum at 0x7f907bb241f0>,\n",
       " '20.06.2023 11:54:33': <core.RamanSpectrum at 0x7f907bb24250>,\n",
       " '20.06.2023 11:57:19': <core.RamanSpectrum at 0x7f907bb242b0>,\n",
       " '20.06.2023 12:10:13': <core.RamanSpectrum at 0x7f907bb24310>,\n",
       " '20.06.2023 11:49:04': <core.RamanSpectrum at 0x7f907bb24370>,\n",
       " '20.06.2023 12:06:11': <core.RamanSpectrum at 0x7f907bb243d0>,\n",
       " '20.06.2023 11:52:10': <core.RamanSpectrum at 0x7f907bb24430>,\n",
       " '20.06.2023 11:59:11': <core.RamanSpectrum at 0x7f907bb24490>,\n",
       " '20.06.2023 11:50:00': <core.RamanSpectrum at 0x7f907bb244f0>,\n",
       " '20.06.2023 11:56:20': <core.RamanSpectrum at 0x7f907bb24550>,\n",
       " './muestras/coffe_mate/Organic_01.txt': <core.RamanSpectrum at 0x7f907bb245b0>,\n",
       " './muestras/coffe_mate/Organic_02.txt': <core.RamanSpectrum at 0x7f907bb24610>,\n",
       " './muestras/coffe_mate/Organic_03.txt': <core.RamanSpectrum at 0x7f907bb245e0>,\n",
       " './muestras/coffe_mate/Organic_04.txt': <core.RamanSpectrum at 0x7f907bb24670>,\n",
       " './muestras/coffe_mate/Organic_05.txt': <core.RamanSpectrum at 0x7f907bb246d0>,\n",
       " './muestras/coffe_mate/Organic_06.txt': <core.RamanSpectrum at 0x7f907bb24730>,\n",
       " './muestras/coffe_mate/Organic_07.txt': <core.RamanSpectrum at 0x7f907bb24790>,\n",
       " './muestras/coffe_mate/Organic_08.txt': <core.RamanSpectrum at 0x7f907bb247f0>,\n",
       " './muestras/coffe_mate/Organic_09.txt': <core.RamanSpectrum at 0x7f907bb24850>,\n",
       " './muestras/coffe_mate/Organic_10.txt': <core.RamanSpectrum at 0x7f907bb248b0>,\n",
       " './muestras/coffe_mate/Organic_11.txt': <core.RamanSpectrum at 0x7f907bb24910>,\n",
       " './muestras/coffe_mate/Organic_12.txt': <core.RamanSpectrum at 0x7f907bb24970>,\n",
       " './muestras/coffe_mate/Organic_13.txt': <core.RamanSpectrum at 0x7f907bb249d0>,\n",
       " './muestras/coffe_mate/Organic_14.txt': <core.RamanSpectrum at 0x7f907bb24a30>,\n",
       " './muestras/coffe_mate/Organic_15.txt': <core.RamanSpectrum at 0x7f907bb24a90>,\n",
       " './muestras/coffe_mate/Organic_16.txt': <core.RamanSpectrum at 0x7f907bb24af0>}"
      ]
     },
     "execution_count": 2,
     "metadata": {},
     "output_type": "execute_result"
    }
   ],
   "source": [
    "ramanspecs"
   ]
  },
  {
   "cell_type": "code",
   "execution_count": null,
   "metadata": {},
   "outputs": [],
   "source": []
  },
  {
   "cell_type": "code",
   "execution_count": null,
   "metadata": {},
   "outputs": [],
   "source": []
  },
  {
   "cell_type": "code",
   "execution_count": 31,
   "metadata": {},
   "outputs": [],
   "source": [
    "nx = test.x\n",
    "ny = test.y"
   ]
  },
  {
   "cell_type": "code",
   "execution_count": 32,
   "metadata": {},
   "outputs": [
    {
     "name": "stdout",
     "output_type": "stream",
     "text": [
      "(1694,)\n",
      "(1694,)\n"
     ]
    }
   ],
   "source": [
    "print(nx.shape)\n",
    "print(ny.shape)"
   ]
  },
  {
   "cell_type": "code",
   "execution_count": null,
   "metadata": {},
   "outputs": [],
   "source": []
  },
  {
   "cell_type": "code",
   "execution_count": 34,
   "metadata": {},
   "outputs": [
    {
     "data": {
      "image/png": "[encoded data removed]",
      "text/plain": [
       "<Figure size 640x480 with 1 Axes>"
      ]
     },
     "metadata": {},
     "output_type": "display_data"
    }
   ],
   "source": [
    "# Import pywt library\n",
    "\n",
    "import pywt\n",
    "\n",
    "# Compute the wavelet transform to plot the scalogram\n",
    "\n",
    "coef, freqs=pywt.cwt(test.y,np.arange(1,20),'gaus1')\n",
    "\n",
    "# Plot the scalogram\n",
    "\n",
    "plt.figure()\n",
    "plt.imshow(coef, cmap='PRGn', aspect='auto',vmax=abs(coef).max(), vmin=-abs(coef).max())\n",
    "plt.show()\n"
   ]
  },
  {
   "cell_type": "code",
   "execution_count": null,
   "metadata": {},
   "outputs": [],
   "source": []
  },
  {
   "cell_type": "code",
   "execution_count": null,
   "metadata": {},
   "outputs": [],
   "source": []
  },
  {
   "cell_type": "code",
   "execution_count": null,
   "metadata": {},
   "outputs": [],
   "source": []
  },
  {
   "cell_type": "code",
   "execution_count": null,
   "metadata": {},
   "outputs": [],
   "source": []
  },
  {
   "cell_type": "code",
   "execution_count": null,
   "metadata": {},
   "outputs": [],
   "source": []
  },
  {
   "cell_type": "code",
   "execution_count": null,
   "metadata": {},
   "outputs": [],
   "source": []
  },
  {
   "cell_type": "code",
   "execution_count": null,
   "metadata": {},
   "outputs": [],
   "source": []
  },
  {
   "cell_type": "code",
   "execution_count": null,
   "metadata": {},
   "outputs": [],
   "source": []
  },
  {
   "cell_type": "code",
   "execution_count": null,
   "metadata": {},
   "outputs": [],
   "source": []
  },
  {
   "cell_type": "code",
   "execution_count": null,
   "metadata": {},
   "outputs": [],
   "source": []
  },
  {
   "cell_type": "code",
   "execution_count": null,
   "metadata": {},
   "outputs": [],
   "source": [
    "import numpy as np\n",
    "\n",
    "# Creating and ploting a functin which is a sum of two sine waves\n",
    "\n",
    "# Number of sample points\n",
    "N = 600\n",
    "\n",
    "# Sample spacing\n",
    "T = 1.0 / 800.0\n",
    "\n",
    "# Create a time vector\n",
    "\n",
    "t = np.linspace(0.0, N*T, N)\n",
    "\n",
    "# Create a signal which is a sum of two sine waves\n",
    "\n",
    "y = np.sin(50.0 * 0.2*np.pi*t) + 0.5*np.sin(80.0 * 0.4*np.pi*t)\n",
    "\n",
    "# Plot the signal\n",
    "\n",
    "import matplotlib.pyplot as plt\n",
    "\n",
    "plt.plot(t, y,'o')"
   ]
  }
 ],
 "metadata": {
  "kernelspec": {
   "display_name": "ramanconda",
   "language": "python",
   "name": "python3"
  },
  "language_info": {
   "codemirror_mode": {
    "name": "ipython",
    "version": 3
   },
   "file_extension": ".py",
   "mimetype": "text/x-python",
   "name": "python",
   "nbconvert_exporter": "python",
   "pygments_lexer": "ipython3",
   "version": "3.10.11"
  },
  "orig_nbformat": 4
 },
 "nbformat": 4,
 "nbformat_minor": 2
}
