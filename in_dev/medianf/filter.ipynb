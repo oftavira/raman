{
 "cells": [
  {
   "cell_type": "code",
   "execution_count": 1,
   "metadata": {},
   "outputs": [
    {
     "data": {
      "application/vnd.jupyter.widget-view+json": {
       "model_id": "c6dd63a93c2a45d598f9d7d68439740d",
       "version_major": 2,
       "version_minor": 0
      },
      "text/plain": [
       "interactive(children=(IntSlider(value=3, description='Window Size:', max=21, min=3, step=2), Output()), _dom_c…"
      ]
     },
     "metadata": {},
     "output_type": "display_data"
    }
   ],
   "source": [
    "import numpy as np\n",
    "import matplotlib.pyplot as plt\n",
    "from scipy.signal import medfilt\n",
    "import ipywidgets as widgets\n",
    "from IPython.display import display\n",
    "\n",
    "# Generate an example signal\n",
    "np.random.seed(0)\n",
    "t = np.linspace(0, 1, 100)\n",
    "signal = np.sin(2 * np.pi * 5 * t) + np.random.normal(0, 0.3, 100)\n",
    "\n",
    "def plot_median_filter(window_size):\n",
    "    filtered_signal = medfilt(signal, kernel_size=window_size)\n",
    "    \n",
    "    plt.figure(figsize=(10, 5))\n",
    "    plt.plot(t, signal, label='Original Signal')\n",
    "    plt.plot(t, filtered_signal, label=f'Median Filter (Window Size: {window_size})', linestyle='--', linewidth=2)\n",
    "    plt.title('Effect of Median Filter on Signal')\n",
    "    plt.xlabel('Time')\n",
    "    plt.ylabel('Amplitude')\n",
    "    plt.legend()\n",
    "    plt.grid(True)\n",
    "    plt.show()\n",
    "\n",
    "# Create an interactive widget\n",
    "window_size_slider = widgets.IntSlider(value=3, min=3, max=21, step=2, description='Window Size:')\n",
    "widgets.interactive(plot_median_filter, window_size=window_size_slider)\n"
   ]
  }
 ],
 "metadata": {
  "kernelspec": {
   "display_name": "ramanconda",
   "language": "python",
   "name": "python3"
  },
  "language_info": {
   "codemirror_mode": {
    "name": "ipython",
    "version": 3
   },
   "file_extension": ".py",
   "mimetype": "text/x-python",
   "name": "python",
   "nbconvert_exporter": "python",
   "pygments_lexer": "ipython3",
   "version": "3.10.11"
  }
 },
 "nbformat": 4,
 "nbformat_minor": 2
}
