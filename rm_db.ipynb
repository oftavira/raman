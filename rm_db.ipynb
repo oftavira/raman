{
 "cells": [
  {
   "cell_type": "code",
   "execution_count": null,
   "metadata": {},
   "outputs": [],
   "source": []
  },
  {
   "cell_type": "code",
   "execution_count": null,
   "metadata": {},
   "outputs": [],
   "source": []
  },
  {
   "cell_type": "code",
   "execution_count": 5,
   "metadata": {},
   "outputs": [],
   "source": [
    "from selenium import webdriver\n",
    "from bs4 import BeautifulSoup\n",
    "\n",
    "# Using the headers to create a ChromeOptions object\n",
    "base_url = 'https://analyticalsciencejournals.onlinelibrary.wiley.com'\n",
    "\n",
    "def get_page(route):\n",
    "    chrome_options = webdriver.ChromeOptions()\n",
    "    # Create a Chrome WebDriver instance\n",
    "    driver = webdriver.Chrome(options=chrome_options)\n",
    "    # Example: Navigate to a website\n",
    "    driver.get(base_url+route)\n",
    "    # Dump the page HTML\n",
    "    content = driver.page_source\n",
    "    # Closing the current window\n",
    "    driver.close()\n",
    "    return content"
   ]
  },
  {
   "cell_type": "code",
   "execution_count": 7,
   "metadata": {},
   "outputs": [],
   "source": [
    "# Parsing the content using BeautifulSoup\n",
    "to_soup_2019 = get_page('/loi/10974555/year/2019')\n",
    "\n",
    "soup_2019 = BeautifulSoup(to_soup_2019, 'html.parser')"
   ]
  },
  {
   "cell_type": "code",
   "execution_count": 9,
   "metadata": {},
   "outputs": [
    {
     "name": "stdout",
     "output_type": "stream",
     "text": [
      "/toc/10974555/2019/50/12\n",
      "/toc/10974555/2019/50/11\n",
      "/toc/10974555/2019/50/10\n",
      "/toc/10974555/2019/50/9\n",
      "/toc/10974555/2019/50/8\n",
      "/toc/10974555/2019/50/7\n",
      "/toc/10974555/2019/50/6\n",
      "/toc/10974555/2019/50/5\n",
      "/toc/10974555/2019/50/4\n",
      "/toc/10974555/2019/50/3\n",
      "/toc/10974555/2019/50/2\n",
      "/toc/10974555/2019/50/1\n"
     ]
    }
   ],
   "source": [
    "# Finding th li with class=\"toc__item\" and printing the text\n",
    "\n",
    "for a in soup_2019.findAll('li', attrs={'class':'card clearfix'}):\n",
    "    \n",
    "    # Finding the url inside the a element\n",
    "\n",
    "    url = a.find('a')['href']\n",
    "    print(url)"
   ]
  },
  {
   "cell_type": "code",
   "execution_count": 10,
   "metadata": {},
   "outputs": [
    {
     "name": "stdout",
     "output_type": "stream",
     "text": [
      "https://analyticalsciencejournals.onlinelibrary.wiley.com/toc/10974555/2019/50/1\n"
     ]
    }
   ],
   "source": [
    "print(base_url + '/toc/10974555/2019/50/1')"
   ]
  },
  {
   "cell_type": "code",
   "execution_count": 14,
   "metadata": {},
   "outputs": [],
   "source": [
    "to_soup_2019_1 = get_page('/toc/10974555/2019/50/1')\n",
    "soup_2019_1 = BeautifulSoup(to_soup_2019_1, 'html.parser')"
   ]
  },
  {
   "cell_type": "code",
   "execution_count": 16,
   "metadata": {},
   "outputs": [],
   "source": [
    "# We proceed to find the div with class : 'table-of-content'\n",
    "\n",
    "candidates = []\n",
    "\n",
    "for a in soup_2019_1.findAll('div', attrs={'class':'table-of-content'}):\n",
    "    candidates.append(a)"
   ]
  },
  {
   "cell_type": "code",
   "execution_count": 17,
   "metadata": {},
   "outputs": [
    {
     "data": {
      "text/plain": [
       "2"
      ]
     },
     "execution_count": 17,
     "metadata": {},
     "output_type": "execute_result"
    }
   ],
   "source": [
    "len(candidates)"
   ]
  },
  {
   "cell_type": "code",
   "execution_count": 22,
   "metadata": {},
   "outputs": [],
   "source": [
    "# Now we check for a given candidate the div with class : 'issue-items-container bulkDownloadWrapper'\n",
    "\n",
    "issue_items = []\n",
    "\n",
    "for a in candidates[0].findAll('div', attrs={'class':'issue-items-container bulkDownloadWrapper'}):\n",
    "    issue_items.append(a)"
   ]
  },
  {
   "cell_type": "code",
   "execution_count": 23,
   "metadata": {},
   "outputs": [
    {
     "data": {
      "text/plain": [
       "5"
      ]
     },
     "execution_count": 23,
     "metadata": {},
     "output_type": "execute_result"
    }
   ],
   "source": [
    "len(issue_items)"
   ]
  }
 ],
 "metadata": {
  "kernelspec": {
   "display_name": "lawsnpro",
   "language": "python",
   "name": "python3"
  },
  "language_info": {
   "codemirror_mode": {
    "name": "ipython",
    "version": 3
   },
   "file_extension": ".py",
   "mimetype": "text/x-python",
   "name": "python",
   "nbconvert_exporter": "python",
   "pygments_lexer": "ipython3",
   "version": "3.8.16"
  }
 },
 "nbformat": 4,
 "nbformat_minor": 2
}
