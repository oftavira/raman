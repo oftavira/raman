{
 "cells": [
  {
   "cell_type": "code",
   "execution_count": null,
   "metadata": {},
   "outputs": [],
   "source": []
  },
  {
   "cell_type": "code",
   "execution_count": 1,
   "metadata": {},
   "outputs": [],
   "source": [
    "base_url = 'https://analyticalsciencejournals.onlinelibrary.wiley.com'\n",
    "\n",
    "#####\n",
    "\n",
    "# # Finding th li with class=\"toc__item\" and printing the text\n",
    "# candidates = []\n",
    "# for element in nine_73.findAll('li', attrs={'class':'card clearfix'}):\n",
    "#     # Finding the url\n",
    "#     candidates.append(base_url + element.find('a')['href'])\n",
    "\n",
    "#####\n",
    "\n",
    "from selenium import webdriver\n",
    "from bs4 import BeautifulSoup\n",
    "import pickle as object_manager\n",
    "\n",
    "class CollectInfo():\n",
    "\n",
    "    def __init__(self, url_base=None, data_source=None):\n",
    "        self.db = {}\n",
    "        if url_base:\n",
    "            self.url_base = url_base\n",
    "        if data_source:\n",
    "            self.db = self.read_pickle(read_object)\n",
    "    \n",
    "    def get_page(self, route):\n",
    "        chrome_options = webdriver.ChromeOptions()\n",
    "        driver = webdriver.Chrome(options=chrome_options)\n",
    "        driver.get(route)\n",
    "        content = driver.page_source\n",
    "        driver.close()\n",
    "        return content;\n",
    "    \n",
    "    def read_object(self, pickle_name):\n",
    "        with open(pickle_name, 'rb') as f:\n",
    "            return object_manager.load(f)\n",
    "    \n",
    "    def make_soup(self, content):\n",
    "        return BeautifulSoup(content, 'html.parser')"
   ]
  },
  {
   "cell_type": "code",
   "execution_count": 3,
   "metadata": {},
   "outputs": [
    {
     "ename": "NameError",
     "evalue": "name 'data_source' is not defined",
     "output_type": "error",
     "traceback": [
      "\u001b[0;31m---------------------------------------------------------------------------\u001b[0m",
      "\u001b[0;31mNameError\u001b[0m                                 Traceback (most recent call last)",
      "\u001b[1;32m/home/phantom/githubs/raman/scrap/rm_db_v2.ipynb Cell 3\u001b[0m line \u001b[0;36m1\n\u001b[0;32m----> <a href='vscode-notebook-cell:/home/phantom/githubs/raman/scrap/rm_db_v2.ipynb#W2sZmlsZQ%3D%3D?line=0'>1</a>\u001b[0m mycoll \u001b[39m=\u001b[39m CollectInfo(data_source\u001b[39m==\u001b[39m\u001b[39m'\u001b[39m\u001b[39murls.pickle\u001b[39m\u001b[39m'\u001b[39m)\n\u001b[1;32m      <a href='vscode-notebook-cell:/home/phantom/githubs/raman/scrap/rm_db_v2.ipynb#W2sZmlsZQ%3D%3D?line=1'>2</a>\u001b[0m mycoll\u001b[39m.\u001b[39mdb\n",
      "\u001b[0;31mNameError\u001b[0m: name 'data_source' is not defined"
     ]
    }
   ],
   "source": [
    "mycoll = CollectInfo(data_source=='urls.pickle')\n",
    "mycoll.db"
   ]
  },
  {
   "cell_type": "code",
   "execution_count": 1,
   "metadata": {},
   "outputs": [],
   "source": [
    "***\n",
    "Workflow:\n",
    "\n",
    "# Using the headers to create a ChromeOptions object\n",
    "base_url = 'https://analyticalsciencejournals.onlinelibrary.wiley.com'\n"
   ]
  },
  {
   "cell_type": "code",
   "execution_count": 2,
   "metadata": {},
   "outputs": [],
   "source": [
    "# Creating all the urls and its corresponding soup as a dictionary\n",
    "# we will create this initally using a dictionary comprehension\n",
    "\n",
    "urls = {base_url+'/loi/10974555/year/'+str(i):'none' for i in range(1973,2024)}    "
   ]
  },
  {
   "cell_type": "code",
   "execution_count": 3,
   "metadata": {},
   "outputs": [
    {
     "data": {
      "text/plain": [
       "{'https://analyticalsciencejournals.onlinelibrary.wiley.com/loi/10974555/year/1973': 'none',\n",
       " 'https://analyticalsciencejournals.onlinelibrary.wiley.com/loi/10974555/year/1974': 'none',\n",
       " 'https://analyticalsciencejournals.onlinelibrary.wiley.com/loi/10974555/year/1975': 'none',\n",
       " 'https://analyticalsciencejournals.onlinelibrary.wiley.com/loi/10974555/year/1976': 'none',\n",
       " 'https://analyticalsciencejournals.onlinelibrary.wiley.com/loi/10974555/year/1977': 'none',\n",
       " 'https://analyticalsciencejournals.onlinelibrary.wiley.com/loi/10974555/year/1978': 'none',\n",
       " 'https://analyticalsciencejournals.onlinelibrary.wiley.com/loi/10974555/year/1979': 'none',\n",
       " 'https://analyticalsciencejournals.onlinelibrary.wiley.com/loi/10974555/year/1980': 'none',\n",
       " 'https://analyticalsciencejournals.onlinelibrary.wiley.com/loi/10974555/year/1981': 'none',\n",
       " 'https://analyticalsciencejournals.onlinelibrary.wiley.com/loi/10974555/year/1982': 'none',\n",
       " 'https://analyticalsciencejournals.onlinelibrary.wiley.com/loi/10974555/year/1983': 'none',\n",
       " 'https://analyticalsciencejournals.onlinelibrary.wiley.com/loi/10974555/year/1984': 'none',\n",
       " 'https://analyticalsciencejournals.onlinelibrary.wiley.com/loi/10974555/year/1985': 'none',\n",
       " 'https://analyticalsciencejournals.onlinelibrary.wiley.com/loi/10974555/year/1986': 'none',\n",
       " 'https://analyticalsciencejournals.onlinelibrary.wiley.com/loi/10974555/year/1987': 'none',\n",
       " 'https://analyticalsciencejournals.onlinelibrary.wiley.com/loi/10974555/year/1988': 'none',\n",
       " 'https://analyticalsciencejournals.onlinelibrary.wiley.com/loi/10974555/year/1989': 'none',\n",
       " 'https://analyticalsciencejournals.onlinelibrary.wiley.com/loi/10974555/year/1990': 'none',\n",
       " 'https://analyticalsciencejournals.onlinelibrary.wiley.com/loi/10974555/year/1991': 'none',\n",
       " 'https://analyticalsciencejournals.onlinelibrary.wiley.com/loi/10974555/year/1992': 'none',\n",
       " 'https://analyticalsciencejournals.onlinelibrary.wiley.com/loi/10974555/year/1993': 'none',\n",
       " 'https://analyticalsciencejournals.onlinelibrary.wiley.com/loi/10974555/year/1994': 'none',\n",
       " 'https://analyticalsciencejournals.onlinelibrary.wiley.com/loi/10974555/year/1995': 'none',\n",
       " 'https://analyticalsciencejournals.onlinelibrary.wiley.com/loi/10974555/year/1996': 'none',\n",
       " 'https://analyticalsciencejournals.onlinelibrary.wiley.com/loi/10974555/year/1997': 'none',\n",
       " 'https://analyticalsciencejournals.onlinelibrary.wiley.com/loi/10974555/year/1998': 'none',\n",
       " 'https://analyticalsciencejournals.onlinelibrary.wiley.com/loi/10974555/year/1999': 'none',\n",
       " 'https://analyticalsciencejournals.onlinelibrary.wiley.com/loi/10974555/year/2000': 'none',\n",
       " 'https://analyticalsciencejournals.onlinelibrary.wiley.com/loi/10974555/year/2001': 'none',\n",
       " 'https://analyticalsciencejournals.onlinelibrary.wiley.com/loi/10974555/year/2002': 'none',\n",
       " 'https://analyticalsciencejournals.onlinelibrary.wiley.com/loi/10974555/year/2003': 'none',\n",
       " 'https://analyticalsciencejournals.onlinelibrary.wiley.com/loi/10974555/year/2004': 'none',\n",
       " 'https://analyticalsciencejournals.onlinelibrary.wiley.com/loi/10974555/year/2005': 'none',\n",
       " 'https://analyticalsciencejournals.onlinelibrary.wiley.com/loi/10974555/year/2006': 'none',\n",
       " 'https://analyticalsciencejournals.onlinelibrary.wiley.com/loi/10974555/year/2007': 'none',\n",
       " 'https://analyticalsciencejournals.onlinelibrary.wiley.com/loi/10974555/year/2008': 'none',\n",
       " 'https://analyticalsciencejournals.onlinelibrary.wiley.com/loi/10974555/year/2009': 'none',\n",
       " 'https://analyticalsciencejournals.onlinelibrary.wiley.com/loi/10974555/year/2010': 'none',\n",
       " 'https://analyticalsciencejournals.onlinelibrary.wiley.com/loi/10974555/year/2011': 'none',\n",
       " 'https://analyticalsciencejournals.onlinelibrary.wiley.com/loi/10974555/year/2012': 'none',\n",
       " 'https://analyticalsciencejournals.onlinelibrary.wiley.com/loi/10974555/year/2013': 'none',\n",
       " 'https://analyticalsciencejournals.onlinelibrary.wiley.com/loi/10974555/year/2014': 'none',\n",
       " 'https://analyticalsciencejournals.onlinelibrary.wiley.com/loi/10974555/year/2015': 'none',\n",
       " 'https://analyticalsciencejournals.onlinelibrary.wiley.com/loi/10974555/year/2016': 'none',\n",
       " 'https://analyticalsciencejournals.onlinelibrary.wiley.com/loi/10974555/year/2017': 'none',\n",
       " 'https://analyticalsciencejournals.onlinelibrary.wiley.com/loi/10974555/year/2018': 'none',\n",
       " 'https://analyticalsciencejournals.onlinelibrary.wiley.com/loi/10974555/year/2019': 'none',\n",
       " 'https://analyticalsciencejournals.onlinelibrary.wiley.com/loi/10974555/year/2020': 'none',\n",
       " 'https://analyticalsciencejournals.onlinelibrary.wiley.com/loi/10974555/year/2021': 'none',\n",
       " 'https://analyticalsciencejournals.onlinelibrary.wiley.com/loi/10974555/year/2022': 'none',\n",
       " 'https://analyticalsciencejournals.onlinelibrary.wiley.com/loi/10974555/year/2023': 'none'}"
      ]
     },
     "execution_count": 3,
     "metadata": {},
     "output_type": "execute_result"
    }
   ],
   "source": [
    "urls"
   ]
  },
  {
   "cell_type": "code",
   "execution_count": 4,
   "metadata": {},
   "outputs": [
    {
     "data": {
      "text/plain": [
       "'https://analyticalsciencejournals.onlinelibrary.wiley.com'"
      ]
     },
     "execution_count": 4,
     "metadata": {},
     "output_type": "execute_result"
    }
   ],
   "source": [
    "base_url"
   ]
  },
  {
   "cell_type": "code",
   "execution_count": 5,
   "metadata": {},
   "outputs": [
    {
     "name": "stdout",
     "output_type": "stream",
     "text": [
      "Loading the urls from the pickle file\n"
     ]
    }
   ],
   "source": [
    "import os\n",
    "import pickle\n",
    "\n",
    "# The base url of the website JRS\n",
    "\n",
    "base_url = 'https://analyticalsciencejournals.onlinelibrary.wiley.com'\n",
    "\n",
    "if os.path.exists('urls.pickle'):\n",
    "    with open('urls.pickle','rb') as f:\n",
    "        # adding verbose to specify the loading of the urls\n",
    "        print('Loading the urls from the pickle file')\n",
    "        urls = pickle.load(f)\n",
    "else:\n",
    "    urls = {base_url+'/loi/10974555/year/'+str(i):'none' for i in range(1973,2024)}"
   ]
  },
  {
   "cell_type": "code",
   "execution_count": 4,
   "metadata": {},
   "outputs": [
    {
     "name": "stdout",
     "output_type": "stream",
     "text": [
      "{'https://analyticalsciencejournals.onlinelibrary.wiley.com/loi/10974555/year/1973': 'none', 'https://analyticalsciencejournals.onlinelibrary.wiley.com/loi/10974555/year/1974': 'none', 'https://analyticalsciencejournals.onlinelibrary.wiley.com/loi/10974555/year/1975': 'none', 'https://analyticalsciencejournals.onlinelibrary.wiley.com/loi/10974555/year/1976': 'none', 'https://analyticalsciencejournals.onlinelibrary.wiley.com/loi/10974555/year/1977': 'none', 'https://analyticalsciencejournals.onlinelibrary.wiley.com/loi/10974555/year/1978': 'none', 'https://analyticalsciencejournals.onlinelibrary.wiley.com/loi/10974555/year/1979': 'none', 'https://analyticalsciencejournals.onlinelibrary.wiley.com/loi/10974555/year/1980': 'none', 'https://analyticalsciencejournals.onlinelibrary.wiley.com/loi/10974555/year/1981': 'none', 'https://analyticalsciencejournals.onlinelibrary.wiley.com/loi/10974555/year/1982': 'none', 'https://analyticalsciencejournals.onlinelibrary.wiley.com/loi/10974555/year/1983': 'none', 'https://analyticalsciencejournals.onlinelibrary.wiley.com/loi/10974555/year/1984': 'none', 'https://analyticalsciencejournals.onlinelibrary.wiley.com/loi/10974555/year/1985': 'none', 'https://analyticalsciencejournals.onlinelibrary.wiley.com/loi/10974555/year/1986': 'none', 'https://analyticalsciencejournals.onlinelibrary.wiley.com/loi/10974555/year/1987': 'none', 'https://analyticalsciencejournals.onlinelibrary.wiley.com/loi/10974555/year/1988': 'none', 'https://analyticalsciencejournals.onlinelibrary.wiley.com/loi/10974555/year/1989': 'none', 'https://analyticalsciencejournals.onlinelibrary.wiley.com/loi/10974555/year/1990': 'none', 'https://analyticalsciencejournals.onlinelibrary.wiley.com/loi/10974555/year/1991': 'none', 'https://analyticalsciencejournals.onlinelibrary.wiley.com/loi/10974555/year/1992': 'none', 'https://analyticalsciencejournals.onlinelibrary.wiley.com/loi/10974555/year/1993': 'none', 'https://analyticalsciencejournals.onlinelibrary.wiley.com/loi/10974555/year/1994': 'none', 'https://analyticalsciencejournals.onlinelibrary.wiley.com/loi/10974555/year/1995': 'none', 'https://analyticalsciencejournals.onlinelibrary.wiley.com/loi/10974555/year/1996': 'none', 'https://analyticalsciencejournals.onlinelibrary.wiley.com/loi/10974555/year/1997': 'none', 'https://analyticalsciencejournals.onlinelibrary.wiley.com/loi/10974555/year/1998': 'none', 'https://analyticalsciencejournals.onlinelibrary.wiley.com/loi/10974555/year/1999': 'none', 'https://analyticalsciencejournals.onlinelibrary.wiley.com/loi/10974555/year/2000': 'none', 'https://analyticalsciencejournals.onlinelibrary.wiley.com/loi/10974555/year/2001': 'none', 'https://analyticalsciencejournals.onlinelibrary.wiley.com/loi/10974555/year/2002': 'none', 'https://analyticalsciencejournals.onlinelibrary.wiley.com/loi/10974555/year/2003': 'none', 'https://analyticalsciencejournals.onlinelibrary.wiley.com/loi/10974555/year/2004': 'none', 'https://analyticalsciencejournals.onlinelibrary.wiley.com/loi/10974555/year/2005': 'none', 'https://analyticalsciencejournals.onlinelibrary.wiley.com/loi/10974555/year/2006': 'none', 'https://analyticalsciencejournals.onlinelibrary.wiley.com/loi/10974555/year/2007': 'none', 'https://analyticalsciencejournals.onlinelibrary.wiley.com/loi/10974555/year/2008': 'none', 'https://analyticalsciencejournals.onlinelibrary.wiley.com/loi/10974555/year/2009': 'none', 'https://analyticalsciencejournals.onlinelibrary.wiley.com/loi/10974555/year/2010': 'none', 'https://analyticalsciencejournals.onlinelibrary.wiley.com/loi/10974555/year/2011': 'none', 'https://analyticalsciencejournals.onlinelibrary.wiley.com/loi/10974555/year/2012': 'none', 'https://analyticalsciencejournals.onlinelibrary.wiley.com/loi/10974555/year/2013': 'none', 'https://analyticalsciencejournals.onlinelibrary.wiley.com/loi/10974555/year/2014': 'none', 'https://analyticalsciencejournals.onlinelibrary.wiley.com/loi/10974555/year/2015': 'none', 'https://analyticalsciencejournals.onlinelibrary.wiley.com/loi/10974555/year/2016': 'none', 'https://analyticalsciencejournals.onlinelibrary.wiley.com/loi/10974555/year/2017': 'none', 'https://analyticalsciencejournals.onlinelibrary.wiley.com/loi/10974555/year/2018': 'none', 'https://analyticalsciencejournals.onlinelibrary.wiley.com/loi/10974555/year/2019': 'none', 'https://analyticalsciencejournals.onlinelibrary.wiley.com/loi/10974555/year/2020': 'none', 'https://analyticalsciencejournals.onlinelibrary.wiley.com/loi/10974555/year/2021': 'none', 'https://analyticalsciencejournals.onlinelibrary.wiley.com/loi/10974555/year/2022': 'none', 'https://analyticalsciencejournals.onlinelibrary.wiley.com/loi/10974555/year/2023': 'none'}\n"
     ]
    }
   ],
   "source": [
    "# We create a function to display the number of \n",
    "# values of type str in the urls dictionary \n",
    "\n",
    "with open('urls.pickle', 'wb') as handle:\n",
    "    pickle.dump(urls, handle, protocol=pickle.HIGHEST_PROTOCOL)"
   ]
  },
  {
   "cell_type": "markdown",
   "metadata": {},
   "source": [
    "***\n",
    "# This part is to read the previous scrap\n",
    "***"
   ]
  },
  {
   "cell_type": "code",
   "execution_count": 5,
   "metadata": {},
   "outputs": [],
   "source": [
    "import pickle\n",
    "from bs4 import BeautifulSoup\n",
    "base_url = 'https://analyticalsciencejournals.onlinelibrary.wiley.com'\n",
    "# Reading the pickle file\n",
    "pick_urls = pickle.load(open('urls.pickle', 'rb'))"
   ]
  },
  {
   "cell_type": "code",
   "execution_count": 6,
   "metadata": {},
   "outputs": [],
   "source": [
    "import time\n",
    "from selenium import webdriver\n",
    "\n",
    "# We define the get_page and its chrono version\n",
    "\n",
    "def get_page(route):\n",
    "    chrome_options = webdriver.ChromeOptions()\n",
    "    driver = webdriver.Chrome(options=chrome_options)\n",
    "    driver.get(route)\n",
    "    content = driver.page_source\n",
    "    driver.close()\n",
    "    return content\n",
    "\n",
    "def get_page_chrono(route):\n",
    "    start = time.time()\n",
    "    content = get_page(route)\n",
    "    end = time.time()\n",
    "    print('Time elapsed: {}'.format(end - start))\n",
    "    return content"
   ]
  },
  {
   "cell_type": "code",
   "execution_count": 9,
   "metadata": {},
   "outputs": [],
   "source": [
    "import random\n",
    "\n",
    "# Then we can pick a url that has not been scrapped yet\n",
    "# and define it as the target\n",
    "\n",
    "def get_random_key(urls):\n",
    "    key = random.choice(list(urls.keys()))\n",
    "    if urls[key] == 'none':\n",
    "        return key\n",
    "    else:\n",
    "        return get_random_key(urls)\n",
    "\n",
    "target = get_random_key(urls)"
   ]
  },
  {
   "cell_type": "code",
   "execution_count": 10,
   "metadata": {},
   "outputs": [
    {
     "name": "stdout",
     "output_type": "stream",
     "text": [
      "Time elapsed: 22.7828471660614\n"
     ]
    }
   ],
   "source": [
    "# Converting the page into a soup to parse it with bs4\n",
    "\n",
    "from bs4 import BeautifulSoup\n",
    "to_soup = get_page_chrono(target)\n",
    "soup = BeautifulSoup(to_soup, 'html.parser')"
   ]
  },
  {
   "cell_type": "code",
   "execution_count": 7,
   "metadata": {},
   "outputs": [],
   "source": [
    "# seting the value of the target in the urls dictionary\n",
    "\n",
    "urls[target] = soup"
   ]
  },
  {
   "cell_type": "code",
   "execution_count": 8,
   "metadata": {},
   "outputs": [],
   "source": [
    "# Dumping the urls dictionary into a pickle file\n",
    "\n",
    "with open('urls.pickle','wb') as f:\n",
    "    pickle.dump(urls,f)"
   ]
  },
  {
   "cell_type": "code",
   "execution_count": 11,
   "metadata": {},
   "outputs": [],
   "source": [
    "# Finding the links to visit\n",
    "\n",
    "candidates = []\n",
    "\n",
    "for element in soup.findAll('li', attrs={'class':'card clearfix'}):\n",
    "    # Finding the url\n",
    "    candidates.append(base_url + element.find('a')['href'])"
   ]
  },
  {
   "cell_type": "code",
   "execution_count": 12,
   "metadata": {},
   "outputs": [
    {
     "data": {
      "text/plain": [
       "['https://analyticalsciencejournals.onlinelibrary.wiley.com/toc/10974555/1998/29/12',\n",
       " 'https://analyticalsciencejournals.onlinelibrary.wiley.com/toc/10974555/1998/29/10-11',\n",
       " 'https://analyticalsciencejournals.onlinelibrary.wiley.com/toc/10974555/1998/29/9',\n",
       " 'https://analyticalsciencejournals.onlinelibrary.wiley.com/toc/10974555/1998/29/8',\n",
       " 'https://analyticalsciencejournals.onlinelibrary.wiley.com/toc/10974555/1998/29/7',\n",
       " 'https://analyticalsciencejournals.onlinelibrary.wiley.com/toc/10974555/1998/29/6',\n",
       " 'https://analyticalsciencejournals.onlinelibrary.wiley.com/toc/10974555/1998/29/5',\n",
       " 'https://analyticalsciencejournals.onlinelibrary.wiley.com/toc/10974555/1998/29/4',\n",
       " 'https://analyticalsciencejournals.onlinelibrary.wiley.com/toc/10974555/1998/29/3',\n",
       " 'https://analyticalsciencejournals.onlinelibrary.wiley.com/toc/10974555/1998/29/2',\n",
       " 'https://analyticalsciencejournals.onlinelibrary.wiley.com/toc/10974555/1998/29/1']"
      ]
     },
     "execution_count": 12,
     "metadata": {},
     "output_type": "execute_result"
    }
   ],
   "source": [
    "candidates"
   ]
  },
  {
   "cell_type": "code",
   "execution_count": 2,
   "metadata": {},
   "outputs": [
    {
     "name": "stdout",
     "output_type": "stream",
     "text": [
      "2 49\n"
     ]
    }
   ],
   "source": [
    "# We create a function to display the number of \n",
    "# values of type str in the urls dictionary \n",
    "\n",
    "def count_values(urls):\n",
    "    count = 0\n",
    "    count2 = 0\n",
    "    for key in urls.keys():\n",
    "        if urls[key] != 'none':\n",
    "            count += 1\n",
    "        else:\n",
    "            count2 += 1\n",
    "    print(count, count2)\n",
    "\n",
    "count_values(urls)"
   ]
  },
  {
   "cell_type": "code",
   "execution_count": 15,
   "metadata": {},
   "outputs": [],
   "source": [
    "# seting the value of the target in the urls dictionary\n",
    "\n",
    "urls[target] = soup"
   ]
  },
  {
   "cell_type": "code",
   "execution_count": 4,
   "metadata": {},
   "outputs": [
    {
     "ename": "NameError",
     "evalue": "name 'get_page_chrono' is not defined",
     "output_type": "error",
     "traceback": [
      "\u001b[0;31m---------------------------------------------------------------------------\u001b[0m",
      "\u001b[0;31mNameError\u001b[0m                                 Traceback (most recent call last)",
      "\u001b[1;32m/home/phantom/githubs/raman/scrap/rm_db.ipynb Cell 11\u001b[0m line \u001b[0;36m1\n\u001b[0;32m----> <a href='vscode-notebook-cell:/home/phantom/githubs/raman/scrap/rm_db.ipynb#Y100sZmlsZQ%3D%3D?line=0'>1</a>\u001b[0m to_soup \u001b[39m=\u001b[39m get_page_chrono(candidates[\u001b[39m0\u001b[39m])\n\u001b[1;32m      <a href='vscode-notebook-cell:/home/phantom/githubs/raman/scrap/rm_db.ipynb#Y100sZmlsZQ%3D%3D?line=1'>2</a>\u001b[0m soup \u001b[39m=\u001b[39m BeautifulSoup(to_soup, \u001b[39m'\u001b[39m\u001b[39mhtml.parser\u001b[39m\u001b[39m'\u001b[39m)\n",
      "\u001b[0;31mNameError\u001b[0m: name 'get_page_chrono' is not defined"
     ]
    }
   ],
   "source": [
    "to_soup = get_page_chrono(candidates[0])\n",
    "soup = BeautifulSoup(to_soup, 'html.parser')"
   ]
  }
 ],
 "metadata": {
  "kernelspec": {
   "display_name": "lawsnpro",
   "language": "python",
   "name": "python3"
  },
  "language_info": {
   "codemirror_mode": {
    "name": "ipython",
    "version": 3
   },
   "file_extension": ".py",
   "mimetype": "text/x-python",
   "name": "python",
   "nbconvert_exporter": "python",
   "pygments_lexer": "ipython3",
   "version": "3.10.11"
  }
 },
 "nbformat": 4,
 "nbformat_minor": 2
}
