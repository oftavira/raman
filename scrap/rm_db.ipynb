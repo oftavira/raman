{
 "cells": [
  {
   "cell_type": "code",
   "execution_count": null,
   "metadata": {},
   "outputs": [],
   "source": []
  },
  {
   "cell_type": "code",
   "execution_count": 3,
   "metadata": {},
   "outputs": [],
   "source": [
    "from selenium import webdriver\n",
    "from bs4 import BeautifulSoup\n",
    "\n",
    "# Using the headers to create a ChromeOptions object\n",
    "base_url = 'https://analyticalsciencejournals.onlinelibrary.wiley.com'\n",
    "\n",
    "def get_page(route):\n",
    "    chrome_options = webdriver.ChromeOptions()\n",
    "    driver = webdriver.Chrome(options=chrome_options)\n",
    "\n",
    "    # Example: Navigate to a website\n",
    "    driver.get(route)\n",
    "\n",
    "    # Dump the page HTML\n",
    "    content = driver.page_source\n",
    "\n",
    "    # Closing the current window\n",
    "    driver.close()\n",
    "\n",
    "    return content;"
   ]
  },
  {
   "cell_type": "code",
   "execution_count": 9,
   "metadata": {},
   "outputs": [],
   "source": [
    "# Creating all the urls and its corresponding soup as a dictionary\n",
    "# we will create this initally using a dictionary comprehension\n",
    "\n",
    "urls = {base_url+'/loi/10974555/year/'+str(i):'' for i in range(1973,2024)}    "
   ]
  },
  {
   "cell_type": "code",
   "execution_count": 11,
   "metadata": {},
   "outputs": [
    {
     "data": {
      "text/plain": [
       "{'https://analyticalsciencejournals.onlinelibrary.wiley.com/loi/10974555/year/1973': '',\n",
       " 'https://analyticalsciencejournals.onlinelibrary.wiley.com/loi/10974555/year/1974': '',\n",
       " 'https://analyticalsciencejournals.onlinelibrary.wiley.com/loi/10974555/year/1975': '',\n",
       " 'https://analyticalsciencejournals.onlinelibrary.wiley.com/loi/10974555/year/1976': '',\n",
       " 'https://analyticalsciencejournals.onlinelibrary.wiley.com/loi/10974555/year/1977': '',\n",
       " 'https://analyticalsciencejournals.onlinelibrary.wiley.com/loi/10974555/year/1978': '',\n",
       " 'https://analyticalsciencejournals.onlinelibrary.wiley.com/loi/10974555/year/1979': '',\n",
       " 'https://analyticalsciencejournals.onlinelibrary.wiley.com/loi/10974555/year/1980': '',\n",
       " 'https://analyticalsciencejournals.onlinelibrary.wiley.com/loi/10974555/year/1981': '',\n",
       " 'https://analyticalsciencejournals.onlinelibrary.wiley.com/loi/10974555/year/1982': '',\n",
       " 'https://analyticalsciencejournals.onlinelibrary.wiley.com/loi/10974555/year/1983': '',\n",
       " 'https://analyticalsciencejournals.onlinelibrary.wiley.com/loi/10974555/year/1984': '',\n",
       " 'https://analyticalsciencejournals.onlinelibrary.wiley.com/loi/10974555/year/1985': '',\n",
       " 'https://analyticalsciencejournals.onlinelibrary.wiley.com/loi/10974555/year/1986': '',\n",
       " 'https://analyticalsciencejournals.onlinelibrary.wiley.com/loi/10974555/year/1987': '',\n",
       " 'https://analyticalsciencejournals.onlinelibrary.wiley.com/loi/10974555/year/1988': '',\n",
       " 'https://analyticalsciencejournals.onlinelibrary.wiley.com/loi/10974555/year/1989': '',\n",
       " 'https://analyticalsciencejournals.onlinelibrary.wiley.com/loi/10974555/year/1990': '',\n",
       " 'https://analyticalsciencejournals.onlinelibrary.wiley.com/loi/10974555/year/1991': '',\n",
       " 'https://analyticalsciencejournals.onlinelibrary.wiley.com/loi/10974555/year/1992': '',\n",
       " 'https://analyticalsciencejournals.onlinelibrary.wiley.com/loi/10974555/year/1993': '',\n",
       " 'https://analyticalsciencejournals.onlinelibrary.wiley.com/loi/10974555/year/1994': '',\n",
       " 'https://analyticalsciencejournals.onlinelibrary.wiley.com/loi/10974555/year/1995': '',\n",
       " 'https://analyticalsciencejournals.onlinelibrary.wiley.com/loi/10974555/year/1996': '',\n",
       " 'https://analyticalsciencejournals.onlinelibrary.wiley.com/loi/10974555/year/1997': '',\n",
       " 'https://analyticalsciencejournals.onlinelibrary.wiley.com/loi/10974555/year/1998': '',\n",
       " 'https://analyticalsciencejournals.onlinelibrary.wiley.com/loi/10974555/year/1999': '',\n",
       " 'https://analyticalsciencejournals.onlinelibrary.wiley.com/loi/10974555/year/2000': '',\n",
       " 'https://analyticalsciencejournals.onlinelibrary.wiley.com/loi/10974555/year/2001': '',\n",
       " 'https://analyticalsciencejournals.onlinelibrary.wiley.com/loi/10974555/year/2002': '',\n",
       " 'https://analyticalsciencejournals.onlinelibrary.wiley.com/loi/10974555/year/2003': '',\n",
       " 'https://analyticalsciencejournals.onlinelibrary.wiley.com/loi/10974555/year/2004': '',\n",
       " 'https://analyticalsciencejournals.onlinelibrary.wiley.com/loi/10974555/year/2005': '',\n",
       " 'https://analyticalsciencejournals.onlinelibrary.wiley.com/loi/10974555/year/2006': '',\n",
       " 'https://analyticalsciencejournals.onlinelibrary.wiley.com/loi/10974555/year/2007': '',\n",
       " 'https://analyticalsciencejournals.onlinelibrary.wiley.com/loi/10974555/year/2008': '',\n",
       " 'https://analyticalsciencejournals.onlinelibrary.wiley.com/loi/10974555/year/2009': '',\n",
       " 'https://analyticalsciencejournals.onlinelibrary.wiley.com/loi/10974555/year/2010': '',\n",
       " 'https://analyticalsciencejournals.onlinelibrary.wiley.com/loi/10974555/year/2011': '',\n",
       " 'https://analyticalsciencejournals.onlinelibrary.wiley.com/loi/10974555/year/2012': '',\n",
       " 'https://analyticalsciencejournals.onlinelibrary.wiley.com/loi/10974555/year/2013': '',\n",
       " 'https://analyticalsciencejournals.onlinelibrary.wiley.com/loi/10974555/year/2014': '',\n",
       " 'https://analyticalsciencejournals.onlinelibrary.wiley.com/loi/10974555/year/2015': '',\n",
       " 'https://analyticalsciencejournals.onlinelibrary.wiley.com/loi/10974555/year/2016': '',\n",
       " 'https://analyticalsciencejournals.onlinelibrary.wiley.com/loi/10974555/year/2017': '',\n",
       " 'https://analyticalsciencejournals.onlinelibrary.wiley.com/loi/10974555/year/2018': '',\n",
       " 'https://analyticalsciencejournals.onlinelibrary.wiley.com/loi/10974555/year/2019': '',\n",
       " 'https://analyticalsciencejournals.onlinelibrary.wiley.com/loi/10974555/year/2020': '',\n",
       " 'https://analyticalsciencejournals.onlinelibrary.wiley.com/loi/10974555/year/2021': '',\n",
       " 'https://analyticalsciencejournals.onlinelibrary.wiley.com/loi/10974555/year/2022': '',\n",
       " 'https://analyticalsciencejournals.onlinelibrary.wiley.com/loi/10974555/year/2023': ''}"
      ]
     },
     "execution_count": 11,
     "metadata": {},
     "output_type": "execute_result"
    }
   ],
   "source": [
    "urls"
   ]
  },
  {
   "cell_type": "code",
   "execution_count": 7,
   "metadata": {},
   "outputs": [],
   "source": [
    "# Parsing the content using BeautifulSoup\n",
    "to_soup_2019 = get_page(base_url + '/loi/10974555/year/2019')\n",
    "\n",
    "soup_2019 = BeautifulSoup(to_soup_2019, 'html.parser')"
   ]
  },
  {
   "cell_type": "code",
   "execution_count": 9,
   "metadata": {},
   "outputs": [
    {
     "name": "stdout",
     "output_type": "stream",
     "text": [
      "/toc/10974555/2019/50/12\n",
      "/toc/10974555/2019/50/11\n",
      "/toc/10974555/2019/50/10\n",
      "/toc/10974555/2019/50/9\n",
      "/toc/10974555/2019/50/8\n",
      "/toc/10974555/2019/50/7\n",
      "/toc/10974555/2019/50/6\n",
      "/toc/10974555/2019/50/5\n",
      "/toc/10974555/2019/50/4\n",
      "/toc/10974555/2019/50/3\n",
      "/toc/10974555/2019/50/2\n",
      "/toc/10974555/2019/50/1\n"
     ]
    }
   ],
   "source": [
    "# Finding th li with class=\"toc__item\" and printing the text\n",
    "\n",
    "for a in soup_2019.findAll('li', attrs={'class':'card clearfix'}):\n",
    "    \n",
    "    # Finding the url inside the a element\n",
    "\n",
    "    url = a.find('a')['href']\n",
    "    print(url)"
   ]
  },
  {
   "cell_type": "code",
   "execution_count": 10,
   "metadata": {},
   "outputs": [
    {
     "name": "stdout",
     "output_type": "stream",
     "text": [
      "https://analyticalsciencejournals.onlinelibrary.wiley.com/toc/10974555/2019/50/1\n"
     ]
    }
   ],
   "source": [
    "print(base_url + '/toc/10974555/2019/50/1')"
   ]
  },
  {
   "cell_type": "code",
   "execution_count": 14,
   "metadata": {},
   "outputs": [],
   "source": [
    "to_soup_2019_1 = get_page('/toc/10974555/2019/50/1')\n",
    "soup_2019_1 = BeautifulSoup(to_soup_2019_1, 'html.parser')"
   ]
  },
  {
   "cell_type": "code",
   "execution_count": 16,
   "metadata": {},
   "outputs": [],
   "source": [
    "# We proceed to find the div with class : 'table-of-content'\n",
    "\n",
    "candidates = []\n",
    "\n",
    "for a in soup_2019_1.findAll('div', attrs={'class':'table-of-content'}):\n",
    "    candidates.append(a)"
   ]
  },
  {
   "cell_type": "code",
   "execution_count": 17,
   "metadata": {},
   "outputs": [
    {
     "data": {
      "text/plain": [
       "2"
      ]
     },
     "execution_count": 17,
     "metadata": {},
     "output_type": "execute_result"
    }
   ],
   "source": [
    "len(candidates)"
   ]
  },
  {
   "cell_type": "code",
   "execution_count": 22,
   "metadata": {},
   "outputs": [],
   "source": [
    "# Now we check for a given candidate the div with class : 'issue-items-container bulkDownloadWrapper'\n",
    "\n",
    "issue_items = []\n",
    "\n",
    "for a in candidates[0].findAll('div', attrs={'class':'issue-items-container bulkDownloadWrapper'}):\n",
    "    issue_items.append(a)"
   ]
  },
  {
   "cell_type": "code",
   "execution_count": 23,
   "metadata": {},
   "outputs": [
    {
     "data": {
      "text/plain": [
       "5"
      ]
     },
     "execution_count": 23,
     "metadata": {},
     "output_type": "execute_result"
    }
   ],
   "source": [
    "len(issue_items)"
   ]
  }
 ],
 "metadata": {
  "kernelspec": {
   "display_name": "lawsnpro",
   "language": "python",
   "name": "python3"
  },
  "language_info": {
   "codemirror_mode": {
    "name": "ipython",
    "version": 3
   },
   "file_extension": ".py",
   "mimetype": "text/x-python",
   "name": "python",
   "nbconvert_exporter": "python",
   "pygments_lexer": "ipython3",
   "version": "3.10.11"
  }
 },
 "nbformat": 4,
 "nbformat_minor": 2
}
